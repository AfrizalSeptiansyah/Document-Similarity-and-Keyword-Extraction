{
 "cells": [
  {
   "cell_type": "markdown",
   "metadata": {},
   "source": [
    "# Import Library"
   ]
  },
  {
   "cell_type": "code",
   "execution_count": 1,
   "metadata": {},
   "outputs": [],
   "source": [
    "import numpy as np\n",
    "import pandas as pd\n",
    "import matplotlib.pyplot as plt\n",
    "import seaborn as sns\n",
    "sns.set()\n",
    "from warnings import filterwarnings\n",
    "filterwarnings('ignore')\n",
    "\n",
    "from nltk.tokenize import word_tokenize\n",
    "from nltk.corpus import stopwords\n",
    "import re\n",
    "from string import punctuation\n",
    "from sklearn.feature_extraction.text import TfidfVectorizer, CountVectorizer\n",
    "\n",
    "sw_indo = stopwords.words('indonesian') +  list(punctuation)"
   ]
  },
  {
   "cell_type": "markdown",
   "metadata": {},
   "source": [
    "# Import Data"
   ]
  },
  {
   "cell_type": "code",
   "execution_count": 2,
   "metadata": {},
   "outputs": [
    {
     "data": {
      "text/html": [
       "<div>\n",
       "<style scoped>\n",
       "    .dataframe tbody tr th:only-of-type {\n",
       "        vertical-align: middle;\n",
       "    }\n",
       "\n",
       "    .dataframe tbody tr th {\n",
       "        vertical-align: top;\n",
       "    }\n",
       "\n",
       "    .dataframe thead th {\n",
       "        text-align: right;\n",
       "    }\n",
       "</style>\n",
       "<table border=\"1\" class=\"dataframe\">\n",
       "  <thead>\n",
       "    <tr style=\"text-align: right;\">\n",
       "      <th></th>\n",
       "      <th>teks</th>\n",
       "    </tr>\n",
       "  </thead>\n",
       "  <tbody>\n",
       "    <tr>\n",
       "      <th>0</th>\n",
       "      <td>Ginandjar Tetap Ditahan. Jaksa Agung Dilaporka...</td>\n",
       "    </tr>\n",
       "    <tr>\n",
       "      <th>1</th>\n",
       "      <td>Jakarta Dikangkangi Para Preman\\nKALAU tak pun...</td>\n",
       "    </tr>\n",
       "    <tr>\n",
       "      <th>2</th>\n",
       "      <td>Penyimpangan di Setpres Seolah Terjadi Sekaran...</td>\n",
       "    </tr>\n",
       "    <tr>\n",
       "      <th>3</th>\n",
       "      <td>Dibayarkan, Rapel Kenaikan Gaji Pegawai Pos\\nK...</td>\n",
       "    </tr>\n",
       "    <tr>\n",
       "      <th>4</th>\n",
       "      <td>Stop Kekerasan, Elite agar Duduk Bersama\\nSeju...</td>\n",
       "    </tr>\n",
       "  </tbody>\n",
       "</table>\n",
       "</div>"
      ],
      "text/plain": [
       "                                                teks\n",
       "0  Ginandjar Tetap Ditahan. Jaksa Agung Dilaporka...\n",
       "1  Jakarta Dikangkangi Para Preman\\nKALAU tak pun...\n",
       "2  Penyimpangan di Setpres Seolah Terjadi Sekaran...\n",
       "3  Dibayarkan, Rapel Kenaikan Gaji Pegawai Pos\\nK...\n",
       "4  Stop Kekerasan, Elite agar Duduk Bersama\\nSeju..."
      ]
     },
     "execution_count": 2,
     "metadata": {},
     "output_type": "execute_result"
    }
   ],
   "source": [
    "df = pd.read_csv(\"data/kompas.csv\")\n",
    "df.head()"
   ]
  },
  {
   "cell_type": "markdown",
   "metadata": {},
   "source": [
    "# Extract Features"
   ]
  },
  {
   "cell_type": "code",
   "execution_count": 3,
   "metadata": {},
   "outputs": [],
   "source": [
    "tfidf = TfidfVectorizer(ngram_range=(1, 2), tokenizer=word_tokenize, stop_words=sw_indo)"
   ]
  },
  {
   "cell_type": "code",
   "execution_count": 4,
   "metadata": {},
   "outputs": [],
   "source": [
    "tfidf_matrix = tfidf.fit_transform(df.teks)"
   ]
  },
  {
   "cell_type": "code",
   "execution_count": 5,
   "metadata": {},
   "outputs": [
    {
     "data": {
      "text/plain": [
       "['zuniga memilih',\n",
       " 'zunnatul',\n",
       " 'zunnatul mafruhah',\n",
       " 'zurich',\n",
       " 'zurich northholt',\n",
       " 'zw',\n",
       " 'zw suparman',\n",
       " 'zw tim',\n",
       " 'zx',\n",
       " 'zx diserbu']"
      ]
     },
     "execution_count": 5,
     "metadata": {},
     "output_type": "execute_result"
    }
   ],
   "source": [
    "vocab = tfidf.get_feature_names()\n",
    "vocab[-10:]"
   ]
  },
  {
   "cell_type": "code",
   "execution_count": 6,
   "metadata": {},
   "outputs": [
    {
     "data": {
      "text/plain": [
       "array([0.02115058, 0.        , 0.        , ..., 0.        , 0.        ,\n",
       "       0.        ])"
      ]
     },
     "execution_count": 6,
     "metadata": {},
     "output_type": "execute_result"
    }
   ],
   "source": [
    "tfidf_matrix[0].toarray()[0]"
   ]
  },
  {
   "cell_type": "code",
   "execution_count": 7,
   "metadata": {},
   "outputs": [
    {
     "data": {
      "text/plain": [
       "array([274212, 365469, 365468, ..., 386379, 436652, 169219], dtype=int64)"
      ]
     },
     "execution_count": 7,
     "metadata": {},
     "output_type": "execute_result"
    }
   ],
   "source": [
    "sort_tfidf = tfidf_matrix[0].toarray()[0].argsort()\n",
    "sort_tfidf"
   ]
  },
  {
   "cell_type": "code",
   "execution_count": 8,
   "metadata": {},
   "outputs": [
    {
     "data": {
      "text/plain": [
       "['ginandjar',\n",
       " 'putusan',\n",
       " 'penahanan',\n",
       " 'hukum ginandjar',\n",
       " 'kuasa hukum',\n",
       " 'rusman',\n",
       " 'kejaksaan',\n",
       " 'hakim rusman',\n",
       " 'kuasa',\n",
       " '9 april']"
      ]
     },
     "execution_count": 8,
     "metadata": {},
     "output_type": "execute_result"
    }
   ],
   "source": [
    "[vocab[idx] for idx in reversed(sort_tfidf[-10:])]"
   ]
  },
  {
   "cell_type": "code",
   "execution_count": 9,
   "metadata": {},
   "outputs": [],
   "source": [
    "def extract_keyword(doc, tfidf, topk=10):\n",
    "    matrix = tfidf.transform([doc])\n",
    "    vocab = tfidf.get_feature_names()\n",
    "    \n",
    "    sort_tfidf = matrix[0].toarray()[0].argsort()\n",
    "    return [vocab[idx] for idx in reversed(sort_tfidf[-topk:])]"
   ]
  },
  {
   "cell_type": "code",
   "execution_count": 10,
   "metadata": {},
   "outputs": [],
   "source": [
    "text = '''\n",
    "Namun independensi ini semakin lama semakin abu-abu. Kolom editorial New York Times yang dirilis beberapa waktu lalu menuliskan bahwa Super PAC perlahan mulai mengambilalih fungsi kampanye seperti pengangkatan tim sukses, pemasangan iklan politik, penyelenggaraan kampanye akbar, dll. Sebelumnya, fungsi ini dijalankan oleh tim kampanye bentukan kandidat. Jadi apakah Teman Ahok dikategorikan sebagai PAC atau Super PAC? Secara harafiah gerakan relawan ini tidak termasuk kategori manapun karena PAC maupun Super PAC tidak mengumpulkan KTP atau di AS disebut signatures untuk meloloskan kandidat yang didukung. Satu hal juga, Teman Ahok tidaklah melakukan penggalangan dana dalam rangka mendukung kampanye Gubernur DKI Jakarta Basuki Tjahaja Purnama. Seperti yang mereka nyatakan, gerakan relawan ini hanya menggalang dana dalam bentuk penjualan merchandise, tidak lebih untuk mendukung biaya operasional mereka. Namun jika kita melakukan komparasi, satu hal yang tidak terbantahkan adalah Teman Ahok secara terbuka menyatakan dukungan ke kandidat tertentu seperti fungsi kampanye politik yang dilakukan oleh PAC maupun Super PAC. Teman Ahok secara aktif mempromosikan Basuki baik secara lapangan maupun siber melalui social media mereka yang sangat aktif. Tidak ketinggalan, poin krusial lain yang mirip adalah masalah independensi Teman Ahok yang masih menjadi isu kontroversial walau kedua belah pihak telah menyatakan dengan tegas bahwa tidak ada “koordinasi” antara Graha Pejaten dan Balaikota. Layaknya seperti Super PAC, terlihat ada warna abu-abu mengenai hubungan antara gerakan relawan dan Gubernur DKI sendiri. Sebenarnya keabu-abuan ini disebabkan karena fenomena ini adalah sesuatu yang baru di tanah air. Di Amerika, PAC dan Super PAC yang sudah beraktivitas sebelum tahap kampanye resmi, memiliki regulasi yang jelas. Selain itu, electoral campaign finance atau peraturan penggalangan dana kampanye juga terbukukan dengan baik prosedurnya. Sementara itu, di Indonesia belum ada regulasi yang mengatur bagaimanakah tahapan pra-kampanye sebelum pendaftaran calon mengenai apa yang boleh dan tidak boleh terutama dalam hal penggalangan dana. Jadi jika ditanya kembali, apakah Teman Ahok adalah PAC, Super PAC atau tim sukses kampanye Ahok?  Jawabannya adalah abu-abu. Kegiatan yang dilakukan sangatlah menyerupai tim sukses, namun karena belum adanya peraturan yang jelas, maka bisa dikatakan Teman Ahok adalah PAC maupun Super PAC yang masih malu-malu dan berhati-hati menjalankan aktivitasnya.\n",
    "\n",
    "Artikel ini telah tayang di Kompas.com dengan judul \"Teman Ahok dan Amerikanisasi Politik Indonesia \", Klik untuk baca: https://megapolitan.kompas.com/read/2016/06/21/08282701/teman.ahok.dan.amerikanisasi.politik.indonesia.?page=all.\n",
    "\n",
    "\n",
    "Download aplikasi Kompas.com untuk akses berita lebih mudah dan cepat:\n",
    "Android: https://bit.ly/3g85pkA\n",
    "iOS: https://apple.co/3hXWJ0L\n",
    "\n",
    "'''"
   ]
  },
  {
   "cell_type": "code",
   "execution_count": 11,
   "metadata": {},
   "outputs": [
    {
     "data": {
      "text/plain": [
       "['ahok',\n",
       " 'super',\n",
       " 'kampanye',\n",
       " 'teman',\n",
       " 'tim sukses',\n",
       " 'penggalangan',\n",
       " 'abu-abu',\n",
       " 'relawan',\n",
       " 'kandidat',\n",
       " 'regulasi',\n",
       " 'sukses',\n",
       " 'basuki',\n",
       " 'fungsi',\n",
       " 'independensi',\n",
       " 'gerakan',\n",
       " 'gubernur dki',\n",
       " 'dana',\n",
       " 'tim',\n",
       " 'isu kontroversial',\n",
       " 'air amerika']"
      ]
     },
     "execution_count": 11,
     "metadata": {},
     "output_type": "execute_result"
    }
   ],
   "source": [
    "extract_keyword(text, tfidf, topk=20)"
   ]
  },
  {
   "cell_type": "code",
   "execution_count": null,
   "metadata": {},
   "outputs": [],
   "source": []
  }
 ],
 "metadata": {
  "kernelspec": {
   "display_name": "Python 3",
   "language": "python",
   "name": "python3"
  },
  "language_info": {
   "codemirror_mode": {
    "name": "ipython",
    "version": 3
   },
   "file_extension": ".py",
   "mimetype": "text/x-python",
   "name": "python",
   "nbconvert_exporter": "python",
   "pygments_lexer": "ipython3",
   "version": "3.8.3"
  }
 },
 "nbformat": 4,
 "nbformat_minor": 4
}
